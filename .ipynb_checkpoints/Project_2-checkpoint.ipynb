{
 "cells": [
  {
   "cell_type": "markdown",
   "metadata": {},
   "source": [
    "# Project 2:  Lucid Titanic Sleuthing"
   ]
  },
  {
   "cell_type": "markdown",
   "metadata": {},
   "source": [
    "## Part 1: Developing an understanding of the data"
   ]
  },
  {
   "cell_type": "markdown",
   "metadata": {},
   "source": [
    "#### Based on the description of the data you read in the readme describe in your own words this data."
   ]
  },
  {
   "cell_type": "markdown",
   "metadata": {
    "collapsed": true
   },
   "source": [
    "This data describes the passernges of both the Titanic and Lusitania ships, when they sunk. This includes family information, fare, passenger class and more. "
   ]
  },
  {
   "cell_type": "markdown",
   "metadata": {},
   "source": [
    "#### Based on our conceptual understanding of the columns in this data set.  What are the reasonable range of the values for the Sex, Age, SibSp, Parch columns."
   ]
  },
  {
   "cell_type": "markdown",
   "metadata": {
    "collapsed": true
   },
   "source": [
    "Sex could either be male or female, age could be from newborn (0) to 120 years (that is high, but inclusive). SibSp could be anywhere from 0 to 10 (which would be very high), and parrents and children could be from 0 to 10. "
   ]
  },
  {
   "cell_type": "markdown",
   "metadata": {},
   "source": [
    "### Open the data in sublime text is there anything that jumps out to you?"
   ]
  },
  {
   "cell_type": "markdown",
   "metadata": {
    "collapsed": true
   },
   "source": [
    "There are many more columns in the Lusitania file, however there is much missing data from both Lusitania and Titanic data sets. Furthermore, there is much of the same information in both files, however, they describe them differently in each data set. For exmaple, the survived column(1 for saved, 0 for not) in the Titanic refers to the fate column ('Saved' for saved, 'Lost' for not) in Lusitania. While these data sets are compatable for comparison, some data cleanup is necessary. "
   ]
  },
  {
   "cell_type": "markdown",
   "metadata": {},
   "source": [
    "## Part 2: reading the data in"
   ]
  },
  {
   "cell_type": "markdown",
   "metadata": {},
   "source": [
    "#### Now read the data into a Pandas DataFrame"
   ]
  },
  {
   "cell_type": "code",
   "execution_count": 3,
   "metadata": {
    "collapsed": false
   },
   "outputs": [],
   "source": [
    "import pandas as pd\n",
    "titanic_file = \"/Users/Scott/dsi/DSI_Workspace/project-02/assets/titanic.csv\"\n",
    "lusitania_file = \"/Users/Scott/dsi/DSI_Workspace/project-02/assets/lusitania.csv\"\n",
    "titanic = pd.read_csv(titanic_file)\n",
    "lusitania = pd.read_csv(lusitania_file)\n"
   ]
  },
  {
   "cell_type": "markdown",
   "metadata": {},
   "source": [
    "#### Check that the age column doesn't have any unreasonable values "
   ]
  },
  {
   "cell_type": "code",
   "execution_count": 9,
   "metadata": {
    "collapsed": false
   },
   "outputs": [
    {
     "data": {
      "text/plain": [
       "(0       29.00\n",
       " 1        0.92\n",
       " 2        2.00\n",
       " 3       30.00\n",
       " 4       25.00\n",
       " 5       48.00\n",
       " 6       63.00\n",
       " 7       39.00\n",
       " 8       53.00\n",
       " 9       71.00\n",
       " 10      47.00\n",
       " 11      18.00\n",
       " 12      24.00\n",
       " 13      26.00\n",
       " 14      80.00\n",
       " 15        NaN\n",
       " 16      24.00\n",
       " 17      50.00\n",
       " 18      32.00\n",
       " 19      36.00\n",
       " 20      37.00\n",
       " 21      47.00\n",
       " 22      26.00\n",
       " 23      42.00\n",
       " 24      29.00\n",
       " 25      25.00\n",
       " 26      25.00\n",
       " 27      19.00\n",
       " 28      35.00\n",
       " 29      28.00\n",
       "         ...  \n",
       " 1279    14.00\n",
       " 1280    22.00\n",
       " 1281    22.00\n",
       " 1282      NaN\n",
       " 1283      NaN\n",
       " 1284      NaN\n",
       " 1285    32.50\n",
       " 1286    38.00\n",
       " 1287    51.00\n",
       " 1288    18.00\n",
       " 1289    21.00\n",
       " 1290    47.00\n",
       " 1291      NaN\n",
       " 1292      NaN\n",
       " 1293      NaN\n",
       " 1294    28.50\n",
       " 1295    21.00\n",
       " 1296    27.00\n",
       " 1297      NaN\n",
       " 1298    36.00\n",
       " 1299    27.00\n",
       " 1300    15.00\n",
       " 1301    45.50\n",
       " 1302      NaN\n",
       " 1303      NaN\n",
       " 1304    14.50\n",
       " 1305      NaN\n",
       " 1306    26.50\n",
       " 1307    27.00\n",
       " 1308    29.00\n",
       " Name: age, dtype: float64, pandas.core.series.Series)"
      ]
     },
     "execution_count": 9,
     "metadata": {},
     "output_type": "execute_result"
    }
   ],
   "source": [
    "titanic['age']"
   ]
  },
  {
   "cell_type": "code",
   "execution_count": 15,
   "metadata": {
    "collapsed": false
   },
   "outputs": [
    {
     "data": {
      "text/plain": [
       "0         38\n",
       "1         37\n",
       "2         30\n",
       "3         25\n",
       "4         27\n",
       "5         48\n",
       "6        NaN\n",
       "7        NaN\n",
       "8         24\n",
       "9       19 ?\n",
       "10        57\n",
       "11        50\n",
       "12       NaN\n",
       "13       NaN\n",
       "14       NaN\n",
       "15       NaN\n",
       "16       NaN\n",
       "17       NaN\n",
       "18       NaN\n",
       "19       NaN\n",
       "20       NaN\n",
       "21       NaN\n",
       "22       NaN\n",
       "23        25\n",
       "24       NaN\n",
       "25        56\n",
       "26       NaN\n",
       "27        41\n",
       "28       NaN\n",
       "29       NaN\n",
       "        ... \n",
       "1931      44\n",
       "1932     NaN\n",
       "1933     NaN\n",
       "1934     NaN\n",
       "1935     NaN\n",
       "1936     NaN\n",
       "1937      27\n",
       "1938     NaN\n",
       "1939     NaN\n",
       "1940     NaN\n",
       "1941     NaN\n",
       "1942      51\n",
       "1943     NaN\n",
       "1944      23\n",
       "1945     NaN\n",
       "1946     NaN\n",
       "1947     NaN\n",
       "1948     NaN\n",
       "1949     NaN\n",
       "1950     NaN\n",
       "1951     NaN\n",
       "1952     NaN\n",
       "1953     NaN\n",
       "1954      31\n",
       "1955      35\n",
       "1956     NaN\n",
       "1957     NaN\n",
       "1958     NaN\n",
       "1959      16\n",
       "1960      37\n",
       "Name: Age, dtype: object"
      ]
     },
     "execution_count": 15,
     "metadata": {},
     "output_type": "execute_result"
    }
   ],
   "source": [
    "lusitania['Age']"
   ]
  },
  {
   "cell_type": "markdown",
   "metadata": {},
   "source": [
    "There are many NaNs (missing ages) and a few guessed ages, represented by '(age) ?'. "
   ]
  },
  {
   "cell_type": "markdown",
   "metadata": {},
   "source": [
    "#### Check for missing values.  How do you know that a value is missing?"
   ]
  },
  {
   "cell_type": "markdown",
   "metadata": {
    "collapsed": true
   },
   "source": [
    "Missing values are represented by NaNs, which there are many in both data sets. The '(age) ?' should not be counted as a missing data as the person recording it should have some reasonable insight as to why they made that guess. Thus, '(age) ?' will be converted to age."
   ]
  },
  {
   "cell_type": "markdown",
   "metadata": {},
   "source": [
    "#### Does it makes sense to guess at the value?"
   ]
  },
  {
   "cell_type": "markdown",
   "metadata": {
    "collapsed": true
   },
   "source": [
    "I am conflicted on this m\n",
    "\n",
    "\n",
    "\n",
    "\n",
    "\n",
    "\n",
    "\n",
    "No,  because that adds an uncontrolled uncertainy into the entire data set. For example, if you were to take the average age of each data set, you could manage the uncertainities by knowing how many missing values there are, however, since a guess is a subjective metric, the uncertaintiy caused by that guess is immersurable. "
   ]
  },
  {
   "cell_type": "markdown",
   "metadata": {},
   "source": [
    "## Part 3: data imputation"
   ]
  },
  {
   "cell_type": "markdown",
   "metadata": {},
   "source": [
    "#### Well let’s say that it does... You likely noticed that Age has some missing values. How many are missing?"
   ]
  },
  {
   "cell_type": "code",
   "execution_count": null,
   "metadata": {
    "collapsed": true
   },
   "outputs": [],
   "source": [
    "#cleaning notes\n",
    "# Clean It\n",
    "#droping all crew members from lustitania because titanic only has passenger data.\n",
    "lustitania = lustitania[lustitania['Passenger/Crew'] != 'Crew']\n",
    "lustitania.head()\n",
    "\n",
    "\n",
    "\n",
    "#getting t_status to correspond with l_status\n",
    "t_status = titanic['survived']\n",
    "l_status = lustitania['Fate']\n",
    "l_status.loc[l_status == 'Saved'] = 1 \n",
    "l_status.loc[l_status != 1] = 0\n",
    "\n",
    "#gender\n",
    "t_gender = titanic['sex']\n",
    "l_gender = lustitania['Sex']\n",
    "\n",
    "#class\n",
    "#lustitania classes (1st = Saloon)\n",
    "l_class = lustitania['Department/Class']\n",
    "l_class.loc['Saloon' == l_class ] = 1\n",
    "l_class.loc['Second'== l_class] = 2\n",
    "l_class.loc['Third' == l_class] = 3\n",
    "l_class.loc['Third (Distressed British Seaman)'== l_class] = 3\n",
    "t_class = titanic['pclass']\n",
    "a = set(l_class)\n",
    "b = set(t_class)"
   ]
  },
  {
   "cell_type": "markdown",
   "metadata": {},
   "source": []
  },
  {
   "cell_type": "markdown",
   "metadata": {},
   "source": [
    "#### For the Age of the passangers ... how would you guess at the missing values using the other data present in the CSV."
   ]
  },
  {
   "cell_type": "code",
   "execution_count": null,
   "metadata": {
    "collapsed": true
   },
   "outputs": [],
   "source": []
  },
  {
   "cell_type": "markdown",
   "metadata": {},
   "source": [
    "## Part 4: Group Statistics"
   ]
  },
  {
   "cell_type": "markdown",
   "metadata": {
    "collapsed": true
   },
   "source": [
    "#### Are there any groups that were especially adversely affected in the Titanic wreck? (justify your response numerically)"
   ]
  },
  {
   "cell_type": "code",
   "execution_count": null,
   "metadata": {
    "collapsed": true
   },
   "outputs": [],
   "source": []
  },
  {
   "cell_type": "markdown",
   "metadata": {},
   "source": [
    "#### Are there any groups that outperformed the survival of the latter group? (justify your response numerically)\n"
   ]
  },
  {
   "cell_type": "code",
   "execution_count": null,
   "metadata": {
    "collapsed": true
   },
   "outputs": [],
   "source": []
  },
  {
   "cell_type": "markdown",
   "metadata": {
    "collapsed": true
   },
   "source": [
    "## Part 5:  Comparative Statistics:  Lusitania"
   ]
  },
  {
   "cell_type": "markdown",
   "metadata": {
    "collapsed": true
   },
   "source": [
    "#### Are there any groups that were especially adversely affected in the Titanic wreck? (justify your response numerically)"
   ]
  },
  {
   "cell_type": "code",
   "execution_count": null,
   "metadata": {
    "collapsed": true
   },
   "outputs": [],
   "source": []
  },
  {
   "cell_type": "markdown",
   "metadata": {
    "collapsed": true
   },
   "source": [
    "#### Are there any groups that outperformed the survival of the latter group? (justify your response numerically)\n",
    "\n"
   ]
  },
  {
   "cell_type": "code",
   "execution_count": null,
   "metadata": {
    "collapsed": true
   },
   "outputs": [],
   "source": []
  },
  {
   "cell_type": "markdown",
   "metadata": {},
   "source": [
    "#### What does the group-wise survival rate imply about circumstances during these two accidents?"
   ]
  },
  {
   "cell_type": "code",
   "execution_count": null,
   "metadata": {
    "collapsed": true
   },
   "outputs": [],
   "source": []
  }
 ],
 "metadata": {
  "anaconda-cloud": {},
  "kernelspec": {
   "display_name": "Python [default]",
   "language": "python",
   "name": "python2"
  },
  "language_info": {
   "codemirror_mode": {
    "name": "ipython",
    "version": 2
   },
   "file_extension": ".py",
   "mimetype": "text/x-python",
   "name": "python",
   "nbconvert_exporter": "python",
   "pygments_lexer": "ipython2",
   "version": "2.7.12"
  }
 },
 "nbformat": 4,
 "nbformat_minor": 0
}
